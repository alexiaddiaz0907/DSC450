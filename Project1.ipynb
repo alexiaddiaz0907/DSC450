{
  "nbformat": 4,
  "nbformat_minor": 0,
  "metadata": {
    "colab": {
      "provenance": [],
      "authorship_tag": "ABX9TyPNLlaLxy/ziqz32R4iG9Gn",
      "include_colab_link": true
    },
    "kernelspec": {
      "name": "python3",
      "display_name": "Python 3"
    },
    "language_info": {
      "name": "python"
    }
  },
  "cells": [
    {
      "cell_type": "markdown",
      "metadata": {
        "id": "view-in-github",
        "colab_type": "text"
      },
      "source": [
        "<a href=\"https://colab.research.google.com/github/alexiaddiaz0907/DSC450/blob/master/Project1.ipynb\" target=\"_parent\"><img src=\"https://colab.research.google.com/assets/colab-badge.svg\" alt=\"Open In Colab\"/></a>"
      ]
    },
    {
      "cell_type": "code",
      "source": [
        "\n",
        "!pip install -U -q PyDrive\n",
        " \n",
        "from pydrive.auth import GoogleAuth\n",
        "from pydrive.drive import GoogleDrive\n",
        "from google.colab import auth\n",
        "from oauth2client.client import GoogleCredentials\n",
        " \n",
        " \n",
        "# Authenticate and create the PyDrive client.\n",
        "auth.authenticate_user()\n",
        "gauth = GoogleAuth()\n",
        "gauth.credentials = GoogleCredentials.get_application_default()\n",
        "drive = GoogleDrive(gauth)"
      ],
      "metadata": {
        "id": "757Zmj6YnJ9i"
      },
      "execution_count": 6,
      "outputs": []
    },
    {
      "cell_type": "code",
      "execution_count": 103,
      "metadata": {
        "colab": {
          "base_uri": "https://localhost:8080/"
        },
        "id": "WGkCD8as7GFU",
        "outputId": "cebbeb97-eebc-41fc-c873-4e566e0accd8"
      },
      "outputs": [
        {
          "output_type": "stream",
          "name": "stdout",
          "text": [
            "       Unnamed: 0    company           location          dates  \\\n",
            "0               1     google               none   Dec 11, 2018   \n",
            "1               2     google  Mountain View, CA   Jun 21, 2013   \n",
            "2               3     google       New York, NY   May 10, 2014   \n",
            "3               4     google  Mountain View, CA    Feb 8, 2015   \n",
            "4               5     google    Los Angeles, CA   Jul 19, 2018   \n",
            "...           ...        ...                ...            ...   \n",
            "67524       67525  microsoft               none   Dec 16, 2010   \n",
            "67525       67526  microsoft               none   Dec 16, 2010   \n",
            "67526       67527  microsoft               none   Dec 15, 2010   \n",
            "67527       67528  microsoft               none   Dec 15, 2010   \n",
            "67528       67529  microsoft               none   Dec 14, 2010   \n",
            "\n",
            "                                         job-title  \\\n",
            "0            Current Employee - Anonymous Employee   \n",
            "1                Former Employee - Program Manager   \n",
            "2         Current Employee - Software Engineer III   \n",
            "3            Current Employee - Anonymous Employee   \n",
            "4              Former Employee - Software Engineer   \n",
            "...                                            ...   \n",
            "67524         Former Employee - Anonymous Employee   \n",
            "67525  Current Employee - Senior Marketing Manager   \n",
            "67526           Current Employee - Account Manager   \n",
            "67527          Current Employee - Senior Test Lead   \n",
            "67528            Former Employee - Senior Director   \n",
            "\n",
            "                                                 summary  \\\n",
            "0                               Best Company to work for   \n",
            "1      Moving at the speed of light, burn out is inev...   \n",
            "2      Great balance between big-company security and...   \n",
            "3      The best place I've worked and also the most d...   \n",
            "4                        Unique, one of a kind dream job   \n",
            "...                                                  ...   \n",
            "67524  Enriching experience for a beginner but bad fo...   \n",
            "67525               A complex and interesting experience   \n",
            "67526                                 Good Place to Work   \n",
            "67527  It's a competitive work place, with overload w...   \n",
            "67528                                   Used to be great   \n",
            "\n",
            "                                                    pros  \\\n",
            "0                          People are smart and friendly   \n",
            "1      1) Food, food, food. 15+ cafes on main campus ...   \n",
            "2      * If you're a software engineer, you're among ...   \n",
            "3      You can't find a more well-regarded company th...   \n",
            "4      Google is a world of its own. At every other c...   \n",
            "...                                                  ...   \n",
            "67524  -Access to a wide range of technologies, compl...   \n",
            "67525  - Once you're at Microsoft you can change role...   \n",
            "67526  Nice place to work. Good atmosphere with advan...   \n",
            "67527       Smart people around you, can learn from them   \n",
            "67528  Compensation, Health benefits and brand name r...   \n",
            "\n",
            "                                                    cons  \\\n",
            "0                     Bureaucracy is slowing things down   \n",
            "1      1) Work/life balance. What balance? All those ...   \n",
            "2      * It *is* becoming larger, and with it comes g...   \n",
            "3      I live in SF so the commute can take between 1...   \n",
            "4      If you don't work in MTV (HQ), you will be giv...   \n",
            "...                                                  ...   \n",
            "67524  -Testers(SDET's ) do not get as many opportuni...   \n",
            "67525  =- be prepared to be Flexible - Frequent chang...   \n",
            "67526  Management confusion at times with vision for ...   \n",
            "67527              Politics, weak moral, leaning loyalty   \n",
            "67528  Leadership was better in the late 90's....its ...   \n",
            "\n",
            "                                          advice-to-mgmt  overall-ratings  \\\n",
            "0                                                   none                5   \n",
            "1      1) Don't dismiss emotional intelligence and ad...                4   \n",
            "2      Keep the focus on the user. Everything else wi...                5   \n",
            "3      Keep on NOT micromanaging - that is a huge ben...                5   \n",
            "4      Promote managers into management for their man...                5   \n",
            "...                                                  ...              ...   \n",
            "67524  Make the company leaner and Meaner. (which wou...                3   \n",
            "67525                                               none                3   \n",
            "67526                                               none                4   \n",
            "67527                                               none                3   \n",
            "67528  Good people keep leaving...you have to ask you...                2   \n",
            "\n",
            "      work-balance-stars culture-values-stars carrer-opportunities-stars  \\\n",
            "0                      4                    5                          5   \n",
            "1                      2                    3                          3   \n",
            "2                      5                    4                          5   \n",
            "3                      2                    5                          5   \n",
            "4                      5                    5                          5   \n",
            "...                  ...                  ...                        ...   \n",
            "67524                  3                 none                          4   \n",
            "67525                1.5                 none                        2.5   \n",
            "67526                  3                 none                          4   \n",
            "67527                  2                 none                          3   \n",
            "67528                  2                 none                          2   \n",
            "\n",
            "      comp-benefit-stars senior-mangemnet-stars  helpful-count  \\\n",
            "0                      4                      5              0   \n",
            "1                      5                      3           2094   \n",
            "2                      5                      4            949   \n",
            "3                      4                      5            498   \n",
            "4                      5                      5             49   \n",
            "...                  ...                    ...            ...   \n",
            "67524                  4                      2              0   \n",
            "67525                  4                    2.5              0   \n",
            "67526                4.5                    3.5              0   \n",
            "67527                3.5                      3              0   \n",
            "67528                  4                      2              0   \n",
            "\n",
            "                                                    link  \n",
            "0      https://www.glassdoor.com/Reviews/Google-Revie...  \n",
            "1      https://www.glassdoor.com/Reviews/Google-Revie...  \n",
            "2      https://www.glassdoor.com/Reviews/Google-Revie...  \n",
            "3      https://www.glassdoor.com/Reviews/Google-Revie...  \n",
            "4      https://www.glassdoor.com/Reviews/Google-Revie...  \n",
            "...                                                  ...  \n",
            "67524  https://www.glassdoor.com/Reviews/Microsoft-Re...  \n",
            "67525  https://www.glassdoor.com/Reviews/Microsoft-Re...  \n",
            "67526  https://www.glassdoor.com/Reviews/Microsoft-Re...  \n",
            "67527  https://www.glassdoor.com/Reviews/Microsoft-Re...  \n",
            "67528  https://www.glassdoor.com/Reviews/Microsoft-Re...  \n",
            "\n",
            "[67529 rows x 17 columns]\n"
          ]
        }
      ],
      "source": [
        "link = 'https://drive.google.com/file/d/1Rn-D6pzM8fRkv1O8bEsAa-vK5CVy-l-F/view?usp=sharing'\n",
        "\n",
        "import pandas as pd\n",
        " \n",
        "# to get the id part of the file\n",
        "id = link.split(\"/\")[-2]\n",
        " \n",
        "downloaded = drive.CreateFile({'id':id})\n",
        "downloaded.GetContentFile('employee_reviews') \n",
        " \n",
        "df = pd.read_csv('employee_reviews', encoding='latin-1')\n",
        "print(df)"
      ]
    },
    {
      "cell_type": "markdown",
      "source": [
        "**Exploratory Data Analysis**"
      ],
      "metadata": {
        "id": "UDw_Pvi1INun"
      }
    },
    {
      "cell_type": "code",
      "source": [
        "df.info()"
      ],
      "metadata": {
        "colab": {
          "base_uri": "https://localhost:8080/"
        },
        "id": "boHJJc_-IeyJ",
        "outputId": "c256d72a-f4c4-4fe5-c6cf-57a9650ce80a"
      },
      "execution_count": 104,
      "outputs": [
        {
          "output_type": "stream",
          "name": "stdout",
          "text": [
            "<class 'pandas.core.frame.DataFrame'>\n",
            "RangeIndex: 67529 entries, 0 to 67528\n",
            "Data columns (total 17 columns):\n",
            " #   Column                      Non-Null Count  Dtype \n",
            "---  ------                      --------------  ----- \n",
            " 0   Unnamed: 0                  67529 non-null  int64 \n",
            " 1   company                     67529 non-null  object\n",
            " 2   location                    67529 non-null  object\n",
            " 3   dates                       67529 non-null  object\n",
            " 4   job-title                   67529 non-null  object\n",
            " 5   summary                     67409 non-null  object\n",
            " 6   pros                        67529 non-null  object\n",
            " 7   cons                        67529 non-null  object\n",
            " 8   advice-to-mgmt              67232 non-null  object\n",
            " 9   overall-ratings             67529 non-null  int64 \n",
            " 10  work-balance-stars          67529 non-null  object\n",
            " 11  culture-values-stars        67529 non-null  object\n",
            " 12  carrer-opportunities-stars  67529 non-null  object\n",
            " 13  comp-benefit-stars          67529 non-null  object\n",
            " 14  senior-mangemnet-stars      67529 non-null  object\n",
            " 15  helpful-count               67529 non-null  int64 \n",
            " 16  link                        67529 non-null  object\n",
            "dtypes: int64(3), object(14)\n",
            "memory usage: 8.8+ MB\n"
          ]
        }
      ]
    },
    {
      "cell_type": "code",
      "source": [
        "# Find Duplicates\n",
        "df.duplicated()"
      ],
      "metadata": {
        "colab": {
          "base_uri": "https://localhost:8080/"
        },
        "id": "c9-ueQeFgE-f",
        "outputId": "c68a36a2-954b-4ba2-f042-44b1fb80dd9b"
      },
      "execution_count": 105,
      "outputs": [
        {
          "output_type": "execute_result",
          "data": {
            "text/plain": [
              "0        False\n",
              "1        False\n",
              "2        False\n",
              "3        False\n",
              "4        False\n",
              "         ...  \n",
              "67524    False\n",
              "67525    False\n",
              "67526    False\n",
              "67527    False\n",
              "67528    False\n",
              "Length: 67529, dtype: bool"
            ]
          },
          "metadata": {},
          "execution_count": 105
        }
      ]
    },
    {
      "cell_type": "code",
      "source": [
        "\n",
        "\n",
        "df = df.drop(columns=['link', 'helpful-count'])\n",
        "df = df.drop(df.columns[0],axis = 1)\n",
        "print(df)"
      ],
      "metadata": {
        "colab": {
          "base_uri": "https://localhost:8080/"
        },
        "id": "95DjnKj0bl_J",
        "outputId": "c77fe1a7-e67f-41b4-afcf-9c379d7a06e0"
      },
      "execution_count": 106,
      "outputs": [
        {
          "output_type": "stream",
          "name": "stdout",
          "text": [
            "         company           location          dates  \\\n",
            "0         google               none   Dec 11, 2018   \n",
            "1         google  Mountain View, CA   Jun 21, 2013   \n",
            "2         google       New York, NY   May 10, 2014   \n",
            "3         google  Mountain View, CA    Feb 8, 2015   \n",
            "4         google    Los Angeles, CA   Jul 19, 2018   \n",
            "...          ...                ...            ...   \n",
            "67524  microsoft               none   Dec 16, 2010   \n",
            "67525  microsoft               none   Dec 16, 2010   \n",
            "67526  microsoft               none   Dec 15, 2010   \n",
            "67527  microsoft               none   Dec 15, 2010   \n",
            "67528  microsoft               none   Dec 14, 2010   \n",
            "\n",
            "                                         job-title  \\\n",
            "0            Current Employee - Anonymous Employee   \n",
            "1                Former Employee - Program Manager   \n",
            "2         Current Employee - Software Engineer III   \n",
            "3            Current Employee - Anonymous Employee   \n",
            "4              Former Employee - Software Engineer   \n",
            "...                                            ...   \n",
            "67524         Former Employee - Anonymous Employee   \n",
            "67525  Current Employee - Senior Marketing Manager   \n",
            "67526           Current Employee - Account Manager   \n",
            "67527          Current Employee - Senior Test Lead   \n",
            "67528            Former Employee - Senior Director   \n",
            "\n",
            "                                                 summary  \\\n",
            "0                               Best Company to work for   \n",
            "1      Moving at the speed of light, burn out is inev...   \n",
            "2      Great balance between big-company security and...   \n",
            "3      The best place I've worked and also the most d...   \n",
            "4                        Unique, one of a kind dream job   \n",
            "...                                                  ...   \n",
            "67524  Enriching experience for a beginner but bad fo...   \n",
            "67525               A complex and interesting experience   \n",
            "67526                                 Good Place to Work   \n",
            "67527  It's a competitive work place, with overload w...   \n",
            "67528                                   Used to be great   \n",
            "\n",
            "                                                    pros  \\\n",
            "0                          People are smart and friendly   \n",
            "1      1) Food, food, food. 15+ cafes on main campus ...   \n",
            "2      * If you're a software engineer, you're among ...   \n",
            "3      You can't find a more well-regarded company th...   \n",
            "4      Google is a world of its own. At every other c...   \n",
            "...                                                  ...   \n",
            "67524  -Access to a wide range of technologies, compl...   \n",
            "67525  - Once you're at Microsoft you can change role...   \n",
            "67526  Nice place to work. Good atmosphere with advan...   \n",
            "67527       Smart people around you, can learn from them   \n",
            "67528  Compensation, Health benefits and brand name r...   \n",
            "\n",
            "                                                    cons  \\\n",
            "0                     Bureaucracy is slowing things down   \n",
            "1      1) Work/life balance. What balance? All those ...   \n",
            "2      * It *is* becoming larger, and with it comes g...   \n",
            "3      I live in SF so the commute can take between 1...   \n",
            "4      If you don't work in MTV (HQ), you will be giv...   \n",
            "...                                                  ...   \n",
            "67524  -Testers(SDET's ) do not get as many opportuni...   \n",
            "67525  =- be prepared to be Flexible - Frequent chang...   \n",
            "67526  Management confusion at times with vision for ...   \n",
            "67527              Politics, weak moral, leaning loyalty   \n",
            "67528  Leadership was better in the late 90's....its ...   \n",
            "\n",
            "                                          advice-to-mgmt  overall-ratings  \\\n",
            "0                                                   none                5   \n",
            "1      1) Don't dismiss emotional intelligence and ad...                4   \n",
            "2      Keep the focus on the user. Everything else wi...                5   \n",
            "3      Keep on NOT micromanaging - that is a huge ben...                5   \n",
            "4      Promote managers into management for their man...                5   \n",
            "...                                                  ...              ...   \n",
            "67524  Make the company leaner and Meaner. (which wou...                3   \n",
            "67525                                               none                3   \n",
            "67526                                               none                4   \n",
            "67527                                               none                3   \n",
            "67528  Good people keep leaving...you have to ask you...                2   \n",
            "\n",
            "      work-balance-stars culture-values-stars carrer-opportunities-stars  \\\n",
            "0                      4                    5                          5   \n",
            "1                      2                    3                          3   \n",
            "2                      5                    4                          5   \n",
            "3                      2                    5                          5   \n",
            "4                      5                    5                          5   \n",
            "...                  ...                  ...                        ...   \n",
            "67524                  3                 none                          4   \n",
            "67525                1.5                 none                        2.5   \n",
            "67526                  3                 none                          4   \n",
            "67527                  2                 none                          3   \n",
            "67528                  2                 none                          2   \n",
            "\n",
            "      comp-benefit-stars senior-mangemnet-stars  \n",
            "0                      4                      5  \n",
            "1                      5                      3  \n",
            "2                      5                      4  \n",
            "3                      4                      5  \n",
            "4                      5                      5  \n",
            "...                  ...                    ...  \n",
            "67524                  4                      2  \n",
            "67525                  4                    2.5  \n",
            "67526                4.5                    3.5  \n",
            "67527                3.5                      3  \n",
            "67528                  4                      2  \n",
            "\n",
            "[67529 rows x 14 columns]\n"
          ]
        }
      ]
    },
    {
      "cell_type": "code",
      "source": [
        "#Find missing values \n",
        "df.isna().sum()\n",
        "\n",
        "\n",
        "\n"
      ],
      "metadata": {
        "colab": {
          "base_uri": "https://localhost:8080/"
        },
        "id": "DCn3vNA_m54L",
        "outputId": "631b70ea-f95b-4f3d-9800-96234f92928d"
      },
      "execution_count": 107,
      "outputs": [
        {
          "output_type": "execute_result",
          "data": {
            "text/plain": [
              "company                         0\n",
              "location                        0\n",
              "dates                           0\n",
              "job-title                       0\n",
              "summary                       120\n",
              "pros                            0\n",
              "cons                            0\n",
              "advice-to-mgmt                297\n",
              "overall-ratings                 0\n",
              "work-balance-stars              0\n",
              "culture-values-stars            0\n",
              "carrer-opportunities-stars      0\n",
              "comp-benefit-stars              0\n",
              "senior-mangemnet-stars          0\n",
              "dtype: int64"
            ]
          },
          "metadata": {},
          "execution_count": 107
        }
      ]
    },
    {
      "cell_type": "code",
      "source": [
        "# Drop missing values \n",
        "new_data = df.dropna(axis = 0, how = 'any')\n",
        "print(new_data)\n"
      ],
      "metadata": {
        "colab": {
          "base_uri": "https://localhost:8080/"
        },
        "id": "RXE6DMycpa35",
        "outputId": "167cc073-16c7-427b-88a1-1552a232db14"
      },
      "execution_count": 108,
      "outputs": [
        {
          "output_type": "stream",
          "name": "stdout",
          "text": [
            "         company           location          dates  \\\n",
            "0         google               none   Dec 11, 2018   \n",
            "1         google  Mountain View, CA   Jun 21, 2013   \n",
            "2         google       New York, NY   May 10, 2014   \n",
            "3         google  Mountain View, CA    Feb 8, 2015   \n",
            "4         google    Los Angeles, CA   Jul 19, 2018   \n",
            "...          ...                ...            ...   \n",
            "67524  microsoft               none   Dec 16, 2010   \n",
            "67525  microsoft               none   Dec 16, 2010   \n",
            "67526  microsoft               none   Dec 15, 2010   \n",
            "67527  microsoft               none   Dec 15, 2010   \n",
            "67528  microsoft               none   Dec 14, 2010   \n",
            "\n",
            "                                         job-title  \\\n",
            "0            Current Employee - Anonymous Employee   \n",
            "1                Former Employee - Program Manager   \n",
            "2         Current Employee - Software Engineer III   \n",
            "3            Current Employee - Anonymous Employee   \n",
            "4              Former Employee - Software Engineer   \n",
            "...                                            ...   \n",
            "67524         Former Employee - Anonymous Employee   \n",
            "67525  Current Employee - Senior Marketing Manager   \n",
            "67526           Current Employee - Account Manager   \n",
            "67527          Current Employee - Senior Test Lead   \n",
            "67528            Former Employee - Senior Director   \n",
            "\n",
            "                                                 summary  \\\n",
            "0                               Best Company to work for   \n",
            "1      Moving at the speed of light, burn out is inev...   \n",
            "2      Great balance between big-company security and...   \n",
            "3      The best place I've worked and also the most d...   \n",
            "4                        Unique, one of a kind dream job   \n",
            "...                                                  ...   \n",
            "67524  Enriching experience for a beginner but bad fo...   \n",
            "67525               A complex and interesting experience   \n",
            "67526                                 Good Place to Work   \n",
            "67527  It's a competitive work place, with overload w...   \n",
            "67528                                   Used to be great   \n",
            "\n",
            "                                                    pros  \\\n",
            "0                          People are smart and friendly   \n",
            "1      1) Food, food, food. 15+ cafes on main campus ...   \n",
            "2      * If you're a software engineer, you're among ...   \n",
            "3      You can't find a more well-regarded company th...   \n",
            "4      Google is a world of its own. At every other c...   \n",
            "...                                                  ...   \n",
            "67524  -Access to a wide range of technologies, compl...   \n",
            "67525  - Once you're at Microsoft you can change role...   \n",
            "67526  Nice place to work. Good atmosphere with advan...   \n",
            "67527       Smart people around you, can learn from them   \n",
            "67528  Compensation, Health benefits and brand name r...   \n",
            "\n",
            "                                                    cons  \\\n",
            "0                     Bureaucracy is slowing things down   \n",
            "1      1) Work/life balance. What balance? All those ...   \n",
            "2      * It *is* becoming larger, and with it comes g...   \n",
            "3      I live in SF so the commute can take between 1...   \n",
            "4      If you don't work in MTV (HQ), you will be giv...   \n",
            "...                                                  ...   \n",
            "67524  -Testers(SDET's ) do not get as many opportuni...   \n",
            "67525  =- be prepared to be Flexible - Frequent chang...   \n",
            "67526  Management confusion at times with vision for ...   \n",
            "67527              Politics, weak moral, leaning loyalty   \n",
            "67528  Leadership was better in the late 90's....its ...   \n",
            "\n",
            "                                          advice-to-mgmt  overall-ratings  \\\n",
            "0                                                   none                5   \n",
            "1      1) Don't dismiss emotional intelligence and ad...                4   \n",
            "2      Keep the focus on the user. Everything else wi...                5   \n",
            "3      Keep on NOT micromanaging - that is a huge ben...                5   \n",
            "4      Promote managers into management for their man...                5   \n",
            "...                                                  ...              ...   \n",
            "67524  Make the company leaner and Meaner. (which wou...                3   \n",
            "67525                                               none                3   \n",
            "67526                                               none                4   \n",
            "67527                                               none                3   \n",
            "67528  Good people keep leaving...you have to ask you...                2   \n",
            "\n",
            "      work-balance-stars culture-values-stars carrer-opportunities-stars  \\\n",
            "0                      4                    5                          5   \n",
            "1                      2                    3                          3   \n",
            "2                      5                    4                          5   \n",
            "3                      2                    5                          5   \n",
            "4                      5                    5                          5   \n",
            "...                  ...                  ...                        ...   \n",
            "67524                  3                 none                          4   \n",
            "67525                1.5                 none                        2.5   \n",
            "67526                  3                 none                          4   \n",
            "67527                  2                 none                          3   \n",
            "67528                  2                 none                          2   \n",
            "\n",
            "      comp-benefit-stars senior-mangemnet-stars  \n",
            "0                      4                      5  \n",
            "1                      5                      3  \n",
            "2                      5                      4  \n",
            "3                      4                      5  \n",
            "4                      5                      5  \n",
            "...                  ...                    ...  \n",
            "67524                  4                      2  \n",
            "67525                  4                    2.5  \n",
            "67526                4.5                    3.5  \n",
            "67527                3.5                      3  \n",
            "67528                  4                      2  \n",
            "\n",
            "[67122 rows x 14 columns]\n"
          ]
        }
      ]
    },
    {
      "cell_type": "code",
      "source": [
        "# Print company values \n",
        "print(new_data['company'].value_counts())"
      ],
      "metadata": {
        "colab": {
          "base_uri": "https://localhost:8080/"
        },
        "id": "5B_D8b1s5wVI",
        "outputId": "ca0ee84a-933a-4fcd-d60d-9f823883bac1"
      },
      "execution_count": 109,
      "outputs": [
        {
          "output_type": "stream",
          "name": "stdout",
          "text": [
            "amazon       26283\n",
            "microsoft    17830\n",
            "apple        12858\n",
            "google        7775\n",
            "facebook      1578\n",
            "netflix        798\n",
            "Name: company, dtype: int64\n"
          ]
        }
      ]
    },
    {
      "cell_type": "code",
      "source": [
        "#create new df based on company\n",
        "google_reviews = new_data.loc[new_data['company'] == 'google']\n",
        "\n",
        "print(google_reviews)\n"
      ],
      "metadata": {
        "colab": {
          "base_uri": "https://localhost:8080/"
        },
        "id": "59TFLhQa5vJO",
        "outputId": "e2b10fa4-ebff-4fae-afd9-da446f4bcc99"
      },
      "execution_count": 111,
      "outputs": [
        {
          "output_type": "stream",
          "name": "stdout",
          "text": [
            "     company           location          dates  \\\n",
            "0     google               none   Dec 11, 2018   \n",
            "1     google  Mountain View, CA   Jun 21, 2013   \n",
            "2     google       New York, NY   May 10, 2014   \n",
            "3     google  Mountain View, CA    Feb 8, 2015   \n",
            "4     google    Los Angeles, CA   Jul 19, 2018   \n",
            "...      ...                ...            ...   \n",
            "7814  google     Paris (France)   May 30, 2015   \n",
            "7815  google               none   Mar 26, 2015   \n",
            "7816  google               none   Feb 26, 2015   \n",
            "7817  google  Hamburg (Germany)   Jan 16, 2015   \n",
            "7818  google               none   Dec 19, 2014   \n",
            "\n",
            "                                     job-title  \\\n",
            "0        Current Employee - Anonymous Employee   \n",
            "1            Former Employee - Program Manager   \n",
            "2     Current Employee - Software Engineer III   \n",
            "3        Current Employee - Anonymous Employee   \n",
            "4          Former Employee - Software Engineer   \n",
            "...                                        ...   \n",
            "7814      Former Employee - Anonymous Employee   \n",
            "7815        Former Employee - Industry Manager   \n",
            "7816      Former Employee - Anonymous Employee   \n",
            "7817        Former Employee - Industry Analyst   \n",
            "7818     Current Employee - Anonymous Employee   \n",
            "\n",
            "                                                summary  \\\n",
            "0                              Best Company to work for   \n",
            "1     Moving at the speed of light, burn out is inev...   \n",
            "2     Great balance between big-company security and...   \n",
            "3     The best place I've worked and also the most d...   \n",
            "4                       Unique, one of a kind dream job   \n",
            "...                                                 ...   \n",
            "7814                                            MitigÃ©   \n",
            "7815         Tolle Brand und innovative Firma, aber ...   \n",
            "7816                                               Bof.   \n",
            "7817                                 Bester Arbeitgeber   \n",
            "7818                                esprit d'entreprise   \n",
            "\n",
            "                                                   pros  \\\n",
            "0                         People are smart and friendly   \n",
            "1     1) Food, food, food. 15+ cafes on main campus ...   \n",
            "2     * If you're a software engineer, you're among ...   \n",
            "3     You can't find a more well-regarded company th...   \n",
            "4     Google is a world of its own. At every other c...   \n",
            "...                                                 ...   \n",
            "7814  EvolutivitÃ© du poste, qualitÃ© de la restaura...   \n",
            "7815  Junges Team, tolle BÃ¼ros, kostenloses Essen u...   \n",
            "7816                 ZÃ©ro pression. Beaucoup de perks.   \n",
            "7817  Dynamisch, offen fÃ¼r VorschlÃ¤ge und Initiati...   \n",
            "7818    Les employÃ©s sont responsabilisÃ©s, c'est bien   \n",
            "\n",
            "                                                   cons  \\\n",
            "0                    Bureaucracy is slowing things down   \n",
            "1     1) Work/life balance. What balance? All those ...   \n",
            "2     * It *is* becoming larger, and with it comes g...   \n",
            "3     I live in SF so the commute can take between 1...   \n",
            "4     If you don't work in MTV (HQ), you will be giv...   \n",
            "...                                                 ...   \n",
            "7814  Charge de travail lourde, equilibre vie pro/vi...   \n",
            "7815  Die \"Helden\" bei Google sind die Programmierer...   \n",
            "7816  ZÃ©ro stimulation intellectuelle, rewards alÃ©...   \n",
            "7817  Manchmal wird man unter dem bisherigen Niveau ...   \n",
            "7818                            Pression, c'est dur dur   \n",
            "\n",
            "                                         advice-to-mgmt  overall-ratings  \\\n",
            "0                                                  none                5   \n",
            "1     1) Don't dismiss emotional intelligence and ad...                4   \n",
            "2     Keep the focus on the user. Everything else wi...                5   \n",
            "3     Keep on NOT micromanaging - that is a huge ben...                5   \n",
            "4     Promote managers into management for their man...                5   \n",
            "...                                                 ...              ...   \n",
            "7814                     Plus d'attention et d'empathie                2   \n",
            "7815  BefÃ¶rderungen werden oft nicht nach objektive...                3   \n",
            "7816                    Embaucher moins de consultants.                3   \n",
            "7817                                               none                5   \n",
            "7818                                 Lachez la pression                4   \n",
            "\n",
            "     work-balance-stars culture-values-stars carrer-opportunities-stars  \\\n",
            "0                     4                    5                          5   \n",
            "1                     2                    3                          3   \n",
            "2                     5                    4                          5   \n",
            "3                     2                    5                          5   \n",
            "4                     5                    5                          5   \n",
            "...                 ...                  ...                        ...   \n",
            "7814                  1                    3                          4   \n",
            "7815                  3                    4                          3   \n",
            "7816                  5                    3                          3   \n",
            "7817                  5                    5                          4   \n",
            "7818                  2                    2                          3   \n",
            "\n",
            "     comp-benefit-stars senior-mangemnet-stars  \n",
            "0                     4                      5  \n",
            "1                     5                      3  \n",
            "2                     5                      4  \n",
            "3                     4                      5  \n",
            "4                     5                      5  \n",
            "...                 ...                    ...  \n",
            "7814                  4                      2  \n",
            "7815                  4                      2  \n",
            "7816                  4                      3  \n",
            "7817                  5                      5  \n",
            "7818                  4                      2  \n",
            "\n",
            "[7775 rows x 14 columns]\n"
          ]
        }
      ]
    },
    {
      "cell_type": "code",
      "source": [
        "# Print location values \n",
        "print(google_reviews['location'].value_counts())"
      ],
      "metadata": {
        "colab": {
          "base_uri": "https://localhost:8080/"
        },
        "id": "YwvOvEu8FAc_",
        "outputId": "1bf41e23-46d1-4984-c6ff-d1a031b4fedb"
      },
      "execution_count": 124,
      "outputs": [
        {
          "output_type": "stream",
          "name": "stdout",
          "text": [
            "none                            3636\n",
            "Mountain View, CA               1485\n",
            "New York, NY                     338\n",
            "Dublin, Co. Dublin (Ireland)     309\n",
            "San Francisco, CA                204\n",
            "                                ... \n",
            "Raleigh, NC                        1\n",
            "Fort Collins, CO                   1\n",
            "Alto, TX                           1\n",
            "Mountain, WV                       1\n",
            "Lille (France)                     1\n",
            "Name: location, Length: 357, dtype: int64\n"
          ]
        }
      ]
    },
    {
      "cell_type": "code",
      "source": [
        "# pull reviews for ountain view, CA location\n",
        "google_reviews = google_reviews.loc[google_reviews['location'] == 'Mountain View, CA']\n",
        "\n",
        "\n"
      ],
      "metadata": {
        "colab": {
          "base_uri": "https://localhost:8080/"
        },
        "id": "KfkyRGcpKzQH",
        "outputId": "4c6dce0d-0f08-4db3-db9c-0fa00faea5b2"
      },
      "execution_count": 131,
      "outputs": [
        {
          "output_type": "stream",
          "name": "stdout",
          "text": [
            "     company           location          dates  \\\n",
            "1     google  Mountain View, CA   Jun 21, 2013   \n",
            "3     google  Mountain View, CA    Feb 8, 2015   \n",
            "5     google  Mountain View, CA    Dec 9, 2018   \n",
            "10    google  Mountain View, CA    Dec 8, 2018   \n",
            "31    google  Mountain View, CA    Dec 9, 2018   \n",
            "...      ...                ...            ...   \n",
            "4927  google  Mountain View, CA   Feb 14, 2008   \n",
            "4928  google  Mountain View, CA   Feb 11, 2008   \n",
            "4929  google  Mountain View, CA    Mar 4, 2008   \n",
            "4930  google  Mountain View, CA   Feb 14, 2008   \n",
            "4931  google  Mountain View, CA    Feb 5, 2008   \n",
            "\n",
            "                                         job-title  \\\n",
            "1                Former Employee - Program Manager   \n",
            "3            Current Employee - Anonymous Employee   \n",
            "5                           Former Employee - SDE2   \n",
            "10           Current Employee - Anonymous Employee   \n",
            "31               Former Employee - Senior Director   \n",
            "...                                            ...   \n",
            "4927          Current Employee - Software Engineer   \n",
            "4928          Current Employee - Software Engineer   \n",
            "4929  Current Employee - Software Engineer In Test   \n",
            "4930          Current Employee - Software Engineer   \n",
            "4931          Current Employee - Software Engineer   \n",
            "\n",
            "                                                summary  \\\n",
            "1     Moving at the speed of light, burn out is inev...   \n",
            "3     The best place I've worked and also the most d...   \n",
            "5                   NICE working in GOOGLE as an INTERN   \n",
            "10                                   Nice place to work   \n",
            "31                                      Senior Director   \n",
            "...                                                 ...   \n",
            "4927  One of the best jobs of my life because I work...   \n",
            "4928  Work with smart people who are willing to shar...   \n",
            "4929  An open and collaborative environment, highly ...   \n",
            "4930  Working for Google has been exciting over the ...   \n",
            "4931  Freedom within the company and lots of things ...   \n",
            "\n",
            "                                                   pros  \\\n",
            "1     1) Food, food, food. 15+ cafes on main campus ...   \n",
            "3     You can't find a more well-regarded company th...   \n",
            "5     People are not that busy, so they are nice to ...   \n",
            "10    * Smart people * World class infrastructure * ...   \n",
            "31    So many brilliant people Tons of resources Wor...   \n",
            "...                                                 ...   \n",
            "4927  To repeat what I wrote before, the people I wo...   \n",
            "4928  People are willing to share knowledge which is...   \n",
            "4929  Just as most people would expect at a company ...   \n",
            "4930  The name recognition that goes along w/ the jo...   \n",
            "4931  I work w/ a diverse set of people. You have ha...   \n",
            "\n",
            "                                                   cons  \\\n",
            "1     1) Work/life balance. What balance? All those ...   \n",
            "3     I live in SF so the commute can take between 1...   \n",
            "5     Food is not good as I expected. People said it...   \n",
            "10    Giant company with uneven project and team cha...   \n",
            "31    Becoming highly bureaucratic Growing political...   \n",
            "...                                                 ...   \n",
            "4927  Sometimes being that it is such a big company ...   \n",
            "4928  A company like this requires a lot of long hou...   \n",
            "4929  This seems like not a very big con, but to tel...   \n",
            "4930  It is very difficult to know where management ...   \n",
            "4931  Google can be a bit overwhelming w/ the volume...   \n",
            "\n",
            "                                         advice-to-mgmt  overall-ratings  \\\n",
            "1     1) Don't dismiss emotional intelligence and ad...                4   \n",
            "3     Keep on NOT micromanaging - that is a huge ben...                5   \n",
            "5                                                  none                5   \n",
            "10                                                 none                5   \n",
            "31                                                 none                3   \n",
            "...                                                 ...              ...   \n",
            "4927                                               None                5   \n",
            "4928  None...but management does solicite advice and...                5   \n",
            "4929                                               None                4   \n",
            "4930  They should consider breaking people down into...                3   \n",
            "4931                                               None                4   \n",
            "\n",
            "     work-balance-stars culture-values-stars carrer-opportunities-stars  \\\n",
            "1                     2                    3                          3   \n",
            "3                     2                    5                          5   \n",
            "5                     4                    4                          4   \n",
            "10                    4                    5                          4   \n",
            "31                    4                    5                          5   \n",
            "...                 ...                  ...                        ...   \n",
            "4927                  5                 none                          4   \n",
            "4928                4.5                 none                          5   \n",
            "4929                  5                 none                        4.5   \n",
            "4930                  4                 none                          3   \n",
            "4931                  4                 none                        4.5   \n",
            "\n",
            "     comp-benefit-stars senior-mangemnet-stars  \n",
            "1                     5                      3  \n",
            "3                     4                      5  \n",
            "5                     5                      4  \n",
            "10                    4                      3  \n",
            "31                    5                      5  \n",
            "...                 ...                    ...  \n",
            "4927                  4                      5  \n",
            "4928                  5                      5  \n",
            "4929                  4                      5  \n",
            "4930                4.5                    4.5  \n",
            "4931                  4                      4  \n",
            "\n",
            "[1485 rows x 14 columns]\n"
          ]
        }
      ]
    },
    {
      "cell_type": "code",
      "source": [
        "import seaborn as sns\n",
        "import matplotlib.pyplot as plt\n",
        "\n",
        "\n",
        "sns.countplot(google_reviews['overall-ratings']).set(title = 'overall-ratings');"
      ],
      "metadata": {
        "colab": {
          "base_uri": "https://localhost:8080/",
          "height": 351
        },
        "id": "i3gDOZ_a-8sJ",
        "outputId": "98b46ea1-9e2a-4629-a272-0851465b8b92"
      },
      "execution_count": 114,
      "outputs": [
        {
          "output_type": "stream",
          "name": "stderr",
          "text": [
            "/usr/local/lib/python3.8/dist-packages/seaborn/_decorators.py:36: FutureWarning: Pass the following variable as a keyword arg: x. From version 0.12, the only valid positional argument will be `data`, and passing other arguments without an explicit keyword will result in an error or misinterpretation.\n",
            "  warnings.warn(\n"
          ]
        },
        {
          "output_type": "display_data",
          "data": {
            "text/plain": [
              "<Figure size 432x288 with 1 Axes>"
            ],
            "image/png": "[encoded data removed]"
          },
          "metadata": {
            "needs_background": "light"
          }
        }
      ]
    },
    {
      "cell_type": "code",
      "source": [
        "#create new df based on company\n",
        "amazon_reviews = new_data.loc[new_data['company'] == 'amazon']\n",
        "print(amazon_reviews)"
      ],
      "metadata": {
        "colab": {
          "base_uri": "https://localhost:8080/"
        },
        "id": "VS2mstHxpiKD",
        "outputId": "b545410b-c58b-4f61-841e-8bc95f58e416"
      },
      "execution_count": 112,
      "outputs": [
        {
          "output_type": "stream",
          "name": "stdout",
          "text": [
            "      company                  location          dates  \\\n",
            "7819   amazon               Phoenix, AZ           None   \n",
            "7820   amazon             Sunnyvale, CA   Dec 10, 2018   \n",
            "7821   amazon               Seattle, WA   Jan 10, 2016   \n",
            "7822   amazon               Seattle, WA   Feb 20, 2016   \n",
            "7823   amazon               Seattle, WA   Dec 17, 2013   \n",
            "...       ...                       ...            ...   \n",
            "34244  amazon     Burghaslach (Germany)   Feb 26, 2016   \n",
            "34245  amazon  Munich, Bayern (Germany)    Mar 6, 2016   \n",
            "34246  amazon          Kassel (Germany)   Feb 22, 2016   \n",
            "34247  amazon            Paris (France)   Feb 22, 2016   \n",
            "34248  amazon    Hard Bargain (Jamaica)   Feb 22, 2016   \n",
            "\n",
            "                                               job-title  \\\n",
            "7819     Current Employee - Software Development Manager   \n",
            "7820   Current Employee - Manager, Software Developme...   \n",
            "7821               Current Employee - Anonymous Employee   \n",
            "7822       Current Employee - Senior Engineering Manager   \n",
            "7823     Current Employee - Software Development Manager   \n",
            "...                                                  ...   \n",
            "34244                  Current Employee - Kommisionierer   \n",
            "34245              Current Employee - Anonymous Employee   \n",
            "34246               Former Employee - Versandmitarbeiter   \n",
            "34247                    Former Employee - VÃ©rification   \n",
            "34248  Former Employee - Hardware Development Enginee...   \n",
            "\n",
            "                                                 summary  \\\n",
            "7819                            An Amazing Place to Work   \n",
            "7820            Software Development Engineering Manager   \n",
            "7821                             You Get What You Put In   \n",
            "7822                      Exciting Work, Abusive Culture   \n",
            "7823   Can be amazing for some people, horrible for o...   \n",
            "...                                                  ...   \n",
            "34244                     Super Firma,sehr zu empfehlen!   \n",
            "34245                                Work hard, have fun   \n",
            "34246                                      Top verpacker   \n",
            "34247                                Bon dans l'ensemble   \n",
            "34248                                              Bitte   \n",
            "\n",
            "                                                    pros  \\\n",
            "7819   I've been at Amazon for a month now, and I've ...   \n",
            "7820   Work hard, have fun, make history. Be proud of...   \n",
            "7821   Really smart people, a lot of opportunity for ...   \n",
            "7822   Jeff Bezos and his \"S-Team\" are brilliant and ...   \n",
            "7823   Amazon is doing lot's of cool stuff...but lots...   \n",
            "...                                                  ...   \n",
            "34244  Freundliche AtmosphÃ¤re,tolle Chefs,haben imme...   \n",
            "34245  Gute EntwicklungsmÃ¶glichkeiten bei harter und...   \n",
            "34246  Sehr gute bezahlung flexibele zeiteinzeilung A...   \n",
            "34247  Il y a des avantages consÃ©quent tel que le fa...   \n",
            "34248  Ich mÃ¶chte erdbebenzuber max bitte mir geben ...   \n",
            "\n",
            "                                                    cons  \\\n",
            "7819   No cons, so far - seriously. Like I said, I'm ...   \n",
            "7820   RUS grand each year related to last year's sto...   \n",
            "7821   You have to be self motivated. NO ONE will hol...   \n",
            "7822   The management process is abusive, and I'm cur...   \n",
            "7823   - You're responsible for your own career progr...   \n",
            "...                                                  ...   \n",
            "34244            bisher noch nichts an Kontras gefunden!   \n",
            "34245  Extrem leistungsorientierte und fordernde Firm...   \n",
            "34246  Verpacken von einigen. Artikeln wie zum Beispi...   \n",
            "34247  Je ne trouve pas ce travail trÃ¨s intÃ©ressant...   \n",
            "34248  The bist kurdish clan the best but we will be ...   \n",
            "\n",
            "                                          advice-to-mgmt  overall-ratings  \\\n",
            "7819                                                none                5   \n",
            "7820                                                none                5   \n",
            "7821   More on-boarding training before new employees...                5   \n",
            "7822   Don't pretend that the recent NY Times article...                3   \n",
            "7823   Stack ranking is a horrible practice since it'...                4   \n",
            "...                                                  ...              ...   \n",
            "34244                                         weiter so!                5   \n",
            "34245  Investition in Mitarbeiter durch Weiterbildung...                3   \n",
            "34246                              Alles okay Topp leute                5   \n",
            "34247                           Aucun conseil spÃ©ciale.                4   \n",
            "34248  I am sorry for the first time in the UK and Ir...                5   \n",
            "\n",
            "      work-balance-stars culture-values-stars carrer-opportunities-stars  \\\n",
            "7819                   4                    5                          5   \n",
            "7820                   5                    5                          5   \n",
            "7821                   4                    5                          5   \n",
            "7822                   3                    3                          3   \n",
            "7823                   3                    3                          5   \n",
            "...                  ...                  ...                        ...   \n",
            "34244                  4                    5                          5   \n",
            "34245                  2                    4                          4   \n",
            "34246                  5                    3                          3   \n",
            "34247                  4                    5                          3   \n",
            "34248                  5                 none                          5   \n",
            "\n",
            "      comp-benefit-stars senior-mangemnet-stars  \n",
            "7819                   5                      5  \n",
            "7820                   4                      5  \n",
            "7821                   5                      5  \n",
            "7822                   4                      4  \n",
            "7823                   5                      4  \n",
            "...                  ...                    ...  \n",
            "34244                  5                      4  \n",
            "34245                  2                      4  \n",
            "34246                  5                      5  \n",
            "34247                  4                      5  \n",
            "34248                  5                      5  \n",
            "\n",
            "[26283 rows x 14 columns]\n"
          ]
        }
      ]
    },
    {
      "cell_type": "code",
      "source": [
        "# Print location values \n",
        "print(amazon_reviews['location'].value_counts())"
      ],
      "metadata": {
        "colab": {
          "base_uri": "https://localhost:8080/"
        },
        "id": "1ktUMVFAGuH5",
        "outputId": "7f1e536f-c216-40f5-e55b-440541fb1bdc"
      },
      "execution_count": 125,
      "outputs": [
        {
          "output_type": "stream",
          "name": "stdout",
          "text": [
            "none                      9572\n",
            "Seattle, WA               3988\n",
            "Bengaluru (India)         1201\n",
            "Hyderabad (India)         1197\n",
            "Chennai (India)            653\n",
            "                          ... \n",
            "Topanga, CA                  1\n",
            "Toms River, NJ               1\n",
            "Groveland, FL                1\n",
            "Bainbridge, GA               1\n",
            "Hard Bargain (Jamaica)       1\n",
            "Name: location, Length: 1015, dtype: int64\n"
          ]
        }
      ]
    },
    {
      "cell_type": "code",
      "source": [
        "import seaborn as sns\n",
        "import matplotlib.pyplot as plt\n",
        "\n",
        "\n",
        "sns.countplot(amazon_reviews['overall-ratings']).set(title = 'overall-ratings');"
      ],
      "metadata": {
        "colab": {
          "base_uri": "https://localhost:8080/",
          "height": 351
        },
        "id": "zQe81ncPAR6L",
        "outputId": "f842b0e3-bde4-447d-d341-2ccfdb8ff4d6"
      },
      "execution_count": 115,
      "outputs": [
        {
          "output_type": "stream",
          "name": "stderr",
          "text": [
            "/usr/local/lib/python3.8/dist-packages/seaborn/_decorators.py:36: FutureWarning: Pass the following variable as a keyword arg: x. From version 0.12, the only valid positional argument will be `data`, and passing other arguments without an explicit keyword will result in an error or misinterpretation.\n",
            "  warnings.warn(\n"
          ]
        },
        {
          "output_type": "display_data",
          "data": {
            "text/plain": [
              "<Figure size 432x288 with 1 Axes>"
            ],
            "image/png": "[encoded data removed]"
          },
          "metadata": {
            "needs_background": "light"
          }
        }
      ]
    },
    {
      "cell_type": "code",
      "source": [
        "#create new df based on company\n",
        "facebook_reviews = new_data.loc[new_data['company'] == 'facebook']\n",
        "print(facebook_reviews)"
      ],
      "metadata": {
        "colab": {
          "base_uri": "https://localhost:8080/"
        },
        "id": "AX4nsR6y-e2h",
        "outputId": "95151b1d-082b-4c22-f559-fbdc621a13f2"
      },
      "execution_count": 113,
      "outputs": [
        {
          "output_type": "stream",
          "name": "stdout",
          "text": [
            "        company                      location          dates  \\\n",
            "34249  facebook                Menlo Park, CA   Dec 11, 2018   \n",
            "34250  facebook                Menlo Park, CA   Feb 16, 2017   \n",
            "34251  facebook                Menlo Park, CA   Feb 16, 2016   \n",
            "34252  facebook                Menlo Park, CA    Dec 3, 2018   \n",
            "34253  facebook                   Seattle, WA    Dec 5, 2018   \n",
            "...         ...                           ...            ...   \n",
            "35834  facebook  Dublin, Co. Dublin (Ireland)   Jul 29, 2012   \n",
            "35835  facebook             New Delhi (India)   Jun 26, 2012   \n",
            "35836  facebook  Dublin, Co. Dublin (Ireland)   Jul 29, 2012   \n",
            "35837  facebook  Dublin, Co. Dublin (Ireland)   Jun 20, 2012   \n",
            "35838  facebook               Chennai (India)    Jun 2, 2012   \n",
            "\n",
            "                                               job-title  \\\n",
            "34249              Current Employee - Product Operations   \n",
            "34250              Current Employee - Anonymous Employee   \n",
            "34251  Current Employee - Site Selection Program Manager   \n",
            "34252              Current Employee - Anonymous Employee   \n",
            "34253         Current Employee - Staff Software Engineer   \n",
            "...                                                  ...   \n",
            "35834          Current Employee - Database Administrator   \n",
            "35835                     Current Employee - Beta Tester   \n",
            "35836            Current Employee - Sales Representative   \n",
            "35837                 Current Employee - User Operations   \n",
            "35838                Former Employee - Marketing Manager   \n",
            "\n",
            "                                                 summary  \\\n",
            "34249        2nd Job out of college --> Great Experience   \n",
            "34250  Fast paced company with high expectations, but...   \n",
            "34251                               Pleasantly Surprised   \n",
            "34252            Don't believe all of the negative press   \n",
            "34253             Continues to be an amazing place to be   \n",
            "...                                                  ...   \n",
            "35834                                      best job ever   \n",
            "35835  very good work experience with a brilliant env...   \n",
            "35836                             A great place to work.   \n",
            "35837                          Best company to work for!   \n",
            "35838                         fine and also very satisfy   \n",
            "\n",
            "                                                    pros  \\\n",
            "34249  Context: I worked in operations - Very entrepr...   \n",
            "34250  =- incredible benefits - Excellent compensatio...   \n",
            "34251  I'm a 55 year old working in a company where t...   \n",
            "34252  Having worked at Facebook for a number of year...   \n",
            "34253  Smart people who were chosen to be good to wor...   \n",
            "...                                                  ...   \n",
            "35834  We could easily run out of space here. Faceboo...   \n",
            "35835  learn work and grow with the best social site ...   \n",
            "35836  High level of freedom to structure your own wo...   \n",
            "35837  It's so much fun to work for Facebook. Amazing...   \n",
            "35838                   creative co workers and employer   \n",
            "\n",
            "                                                    cons  \\\n",
            "34249  - Very entrepreneurial culture: There is no fo...   \n",
            "34250  - If you don't learn to make the work life bal...   \n",
            "34251  Like any tech company, the work is big and com...   \n",
            "34252  Particularly as of late, Facebook has been sub...   \n",
            "34253  Took a year and a half to learn to play defens...   \n",
            "...                                                  ...   \n",
            "35834  All that Facebook expect from you for the best...   \n",
            "35835  post IPO, facebook's company rating and compen...   \n",
            "35836  Compensation could certainly improve. A bit to...   \n",
            "35837  I really can't think of any downside. It's all...   \n",
            "35838              fast lifestyle and a little stressful   \n",
            "\n",
            "                                          advice-to-mgmt  overall-ratings  \\\n",
            "34249                                               none                5   \n",
            "34250  Keep doing what you're doing, keep an eye on e...                5   \n",
            "34251  Keep doing what you're doing and fight hard to...                5   \n",
            "34252                                               none                5   \n",
            "34253  I'd love to see management be half as open wit...                5   \n",
            "...                                                  ...              ...   \n",
            "35834                                        keep it up!                5   \n",
            "35835                                               none                5   \n",
            "35836                                               none                4   \n",
            "35837                                               none                5   \n",
            "35838                           you are doing a fine job                5   \n",
            "\n",
            "      work-balance-stars culture-values-stars carrer-opportunities-stars  \\\n",
            "34249                  4                    4                          5   \n",
            "34250                  5                    5                          5   \n",
            "34251                  4                    5                          4   \n",
            "34252                  4                    5                          5   \n",
            "34253                  5                    5                          5   \n",
            "...                  ...                  ...                        ...   \n",
            "35834                  5                    5                          5   \n",
            "35835                  5                    5                          4   \n",
            "35836                  4                    5                          5   \n",
            "35837                  4                    4                          5   \n",
            "35838                  5                    4                          5   \n",
            "\n",
            "      comp-benefit-stars senior-mangemnet-stars  \n",
            "34249                  5                      4  \n",
            "34250                  5                      5  \n",
            "34251                  5                      5  \n",
            "34252                  5                      5  \n",
            "34253                  4                      5  \n",
            "...                  ...                    ...  \n",
            "35834                  4                      5  \n",
            "35835                  5                      3  \n",
            "35836                  3                      4  \n",
            "35837                  4                      4  \n",
            "35838                  5                      5  \n",
            "\n",
            "[1578 rows x 14 columns]\n"
          ]
        }
      ]
    },
    {
      "cell_type": "code",
      "source": [
        "# Print location values \n",
        "print(facebook_reviews['location'].value_counts())"
      ],
      "metadata": {
        "colab": {
          "base_uri": "https://localhost:8080/"
        },
        "id": "_0KRZJ7zG4TK",
        "outputId": "00a21be2-7b28-4ae8-cbfb-a302ef24d853"
      },
      "execution_count": 126,
      "outputs": [
        {
          "output_type": "stream",
          "name": "stdout",
          "text": [
            "Menlo Park, CA                  797\n",
            "Dublin, Co. Dublin (Ireland)    111\n",
            "London, England (UK)             88\n",
            "Seattle, WA                      86\n",
            "New York, NY                     84\n",
            "                               ... \n",
            "Santa Clara, CA                   1\n",
            "Decatur, GA                       1\n",
            "Charlotte, NC                     1\n",
            "Daly City, CA                     1\n",
            "New Delhi (India)                 1\n",
            "Name: location, Length: 105, dtype: int64\n"
          ]
        }
      ]
    },
    {
      "cell_type": "code",
      "source": [
        "import seaborn as sns\n",
        "import matplotlib.pyplot as plt\n",
        "\n",
        "\n",
        "sns.countplot(facebook_reviews['overall-ratings']).set(title = 'overall-ratings');"
      ],
      "metadata": {
        "colab": {
          "base_uri": "https://localhost:8080/",
          "height": 351
        },
        "id": "ZtWwuKoLAcTU",
        "outputId": "671394a9-1d32-4b35-a873-21bcbcfb81ec"
      },
      "execution_count": 116,
      "outputs": [
        {
          "output_type": "stream",
          "name": "stderr",
          "text": [
            "/usr/local/lib/python3.8/dist-packages/seaborn/_decorators.py:36: FutureWarning: Pass the following variable as a keyword arg: x. From version 0.12, the only valid positional argument will be `data`, and passing other arguments without an explicit keyword will result in an error or misinterpretation.\n",
            "  warnings.warn(\n"
          ]
        },
        {
          "output_type": "display_data",
          "data": {
            "text/plain": [
              "<Figure size 432x288 with 1 Axes>"
            ],
            "image/png": "[encoded data removed]"
          },
          "metadata": {
            "needs_background": "light"
          }
        }
      ]
    },
    {
      "cell_type": "code",
      "source": [
        "#create new df based on company\n",
        "netflix_reviews = new_data.loc[new_data['company'] == 'netflix']\n",
        "print(netflix_reviews)\n"
      ],
      "metadata": {
        "colab": {
          "base_uri": "https://localhost:8080/"
        },
        "id": "adhJaLN7e9IF",
        "outputId": "a68e70e2-b544-4393-896e-1e71a37777cf"
      },
      "execution_count": 117,
      "outputs": [
        {
          "output_type": "stream",
          "name": "stdout",
          "text": [
            "       company               location          dates  \\\n",
            "35839  netflix                   none   Oct 22, 2018   \n",
            "35840  netflix                   none   Sep 20, 2018   \n",
            "35841  netflix                   none    Dec 5, 2018   \n",
            "35842  netflix        Los Angeles, CA   Nov 30, 2018   \n",
            "35843  netflix                   none   Nov 26, 2018   \n",
            "...        ...                    ...            ...   \n",
            "36644  netflix                   none   May 11, 2009   \n",
            "36645  netflix                   none   May 22, 2009   \n",
            "36646  netflix                   none   Nov 16, 2008   \n",
            "36647  netflix                   none   Apr 20, 2018   \n",
            "36648  netflix  Sartrouville (France)    Apr 2, 2018   \n",
            "\n",
            "                                               job-title  \\\n",
            "35839              Current Employee - Anonymous Employee   \n",
            "35840              Current Employee - Anonymous Employee   \n",
            "35841               Former Employee - Anonymous Employee   \n",
            "35842                     Former Employee - Video Editor   \n",
            "35843               Former Employee - Anonymous Employee   \n",
            "...                                                  ...   \n",
            "36644  Current Employee - Customer Service Representa...   \n",
            "36645               Former Employee - Anonymous Employee   \n",
            "36646                        Current Employee - Director   \n",
            "36647               Former Employee - Anonymous Employee   \n",
            "36648          Current Employee - Chercheur postdoctoral   \n",
            "\n",
            "                                                 summary  \\\n",
            "35839                                Executive Assistant   \n",
            "35840            How much does a functioning human cost?   \n",
            "35841                               QA Tester Contractor   \n",
            "35842                                     Netflix Editor   \n",
            "35843                                          I love it   \n",
            "...                                                  ...   \n",
            "36644  Netflix: seems like a great company to work fo...   \n",
            "36645                             Enter At Your Own Risk   \n",
            "36646  Netflix delivers in on-line streaming and cont...   \n",
            "36647                                     Art et mÃ©dias   \n",
            "36648                                       Film rÃ©cent   \n",
            "\n",
            "                                                    pros  \\\n",
            "35839  Open communication. Top of market pay. Extreme...   \n",
            "35840  =- paycheck - so many good people - such A gre...   \n",
            "35841  Great personalities, great work culture, free ...   \n",
            "35842  Excellent Projects with Pros from throughout t...   \n",
            "35843                        It was great and i loved it   \n",
            "...                                                  ...   \n",
            "36644  Free subscription and the salary was competiti...   \n",
            "36645               Free movies and interesting product.   \n",
            "36646  freedom, accountability, results oriented, emb...   \n",
            "36647  Apprendre Ã  travailler sur pression. DÃ©velop...   \n",
            "36648  AgrÃ©able Passe temps Libre de choix Belle qua...   \n",
            "\n",
            "                                                    cons  \\\n",
            "35839  Very meeting heavy, which isn't a con, but doe...   \n",
            "35840  I have been working for a year at Netflix.  I'...   \n",
            "35841                   None really at all at the moment   \n",
            "35842              Still setting the feel of the company   \n",
            "35843             Not enough free snack especially chips   \n",
            "...                                                  ...   \n",
            "36644  Horrible hours, the constant policy changes, a...   \n",
            "36645  Hard to list them all. This is a very difficul...   \n",
            "36646  positive challenges of growth, improvements, n...   \n",
            "36647         Stimuler Ã  faire beaucoup plus quâavant   \n",
            "36648                             Je ne l'ai connais pas   \n",
            "\n",
            "                                          advice-to-mgmt  overall-ratings  \\\n",
            "35839      Please continue to do what you've been doing.                5   \n",
            "35840                       Ask yourself those questions                3   \n",
            "35841                                               none                5   \n",
            "35842                                               none                5   \n",
            "35843                                               none                5   \n",
            "...                                                  ...              ...   \n",
            "36644  There is a reason for the extremely high turno...                2   \n",
            "36645  Be more up front with potential employees abou...                1   \n",
            "36646  continue to remove silos within the organizati...                4   \n",
            "36647         Toujours donner lâopportunitÃ© au jeune.                5   \n",
            "36648  Je vous ferais avance pour toutes choses qui e...                5   \n",
            "\n",
            "      work-balance-stars culture-values-stars carrer-opportunities-stars  \\\n",
            "35839                  4                    5                          5   \n",
            "35840                  2                    1                          5   \n",
            "35841               none                 none                       none   \n",
            "35842                  4                    3                          4   \n",
            "35843                  5                    5                          5   \n",
            "...                  ...                  ...                        ...   \n",
            "36644                2.5                 none                          1   \n",
            "36645                  1                 none                          1   \n",
            "36646                4.5                 none                          4   \n",
            "36647               none                 none                       none   \n",
            "36648                  5                    5                          5   \n",
            "\n",
            "      comp-benefit-stars senior-mangemnet-stars  \n",
            "35839                  4                      4  \n",
            "35840                  5                      4  \n",
            "35841               none                   none  \n",
            "35842                  4                      3  \n",
            "35843                  5                      5  \n",
            "...                  ...                    ...  \n",
            "36644                  4                    1.5  \n",
            "36645                3.5                      1  \n",
            "36646                  4                    4.5  \n",
            "36647               none                   none  \n",
            "36648                  5                      5  \n",
            "\n",
            "[798 rows x 14 columns]\n"
          ]
        }
      ]
    },
    {
      "cell_type": "code",
      "source": [
        "# Print location values \n",
        "print(netflix_reviews['location'].value_counts())"
      ],
      "metadata": {
        "colab": {
          "base_uri": "https://localhost:8080/"
        },
        "id": "C_wJphdfHAdj",
        "outputId": "12d8bc13-afda-4d50-ee3b-c517db1523c3"
      },
      "execution_count": 127,
      "outputs": [
        {
          "output_type": "stream",
          "name": "stdout",
          "text": [
            "none                     246\n",
            "Los Gatos, CA            243\n",
            "Hillsboro, OR            105\n",
            "Salt Lake City, UT        56\n",
            "Los Angeles, CA           27\n",
            "                        ... \n",
            "Columbus, OH               1\n",
            "Gilroy, CA                 1\n",
            "Pittsburgh, PA             1\n",
            "North Las Vegas, NV        1\n",
            "Sartrouville (France)      1\n",
            "Name: location, Length: 61, dtype: int64\n"
          ]
        }
      ]
    },
    {
      "cell_type": "code",
      "source": [
        "import seaborn as sns\n",
        "import matplotlib.pyplot as plt\n",
        "\n",
        "\n",
        "sns.countplot(netflix_reviews['overall-ratings']).set(title = 'overall-ratings');"
      ],
      "metadata": {
        "colab": {
          "base_uri": "https://localhost:8080/",
          "height": 351
        },
        "id": "E604FWwcAtyT",
        "outputId": "a84fd850-9fa5-4c14-959b-cf292eb0bace"
      },
      "execution_count": 118,
      "outputs": [
        {
          "output_type": "stream",
          "name": "stderr",
          "text": [
            "/usr/local/lib/python3.8/dist-packages/seaborn/_decorators.py:36: FutureWarning: Pass the following variable as a keyword arg: x. From version 0.12, the only valid positional argument will be `data`, and passing other arguments without an explicit keyword will result in an error or misinterpretation.\n",
            "  warnings.warn(\n"
          ]
        },
        {
          "output_type": "display_data",
          "data": {
            "text/plain": [
              "<Figure size 432x288 with 1 Axes>"
            ],
            "image/png": "[encoded data removed]"
          },
          "metadata": {
            "needs_background": "light"
          }
        }
      ]
    },
    {
      "cell_type": "code",
      "source": [
        "#create new df based on company\n",
        "apple_reviews = new_data.loc[new_data['company'] == 'apple']\n",
        "print(apple_reviews)"
      ],
      "metadata": {
        "colab": {
          "base_uri": "https://localhost:8080/"
        },
        "id": "T1-ZuVmVA0xK",
        "outputId": "2cd1b4f8-3f71-48d9-bb0e-9254f5a762d7"
      },
      "execution_count": 119,
      "outputs": [
        {
          "output_type": "stream",
          "name": "stdout",
          "text": [
            "      company                  location          dates  \\\n",
            "36649   apple                      none   Dec 11, 2018   \n",
            "36650   apple                      none   Aug 28, 2014   \n",
            "36651   apple                 Tempe, AZ   Mar 10, 2017   \n",
            "36652   apple              Lakewood, CO   May 13, 2015   \n",
            "36653   apple                      none    Dec 8, 2018   \n",
            "...       ...                       ...            ...   \n",
            "49594   apple                      none    Sep 6, 2015   \n",
            "49595   apple            Paris (France)    Sep 3, 2015   \n",
            "49596   apple            Paris (France)   Jul 28, 2015   \n",
            "49597   apple  Munich, Bayern (Germany)   Jun 29, 2015   \n",
            "49598   apple         Hamburg (Germany)    Jun 7, 2015   \n",
            "\n",
            "                                      job-title  \\\n",
            "36649     Current Employee - Anonymous Employee   \n",
            "36650     Current Employee - Anonymous Employee   \n",
            "36651             Current Employee - Specialist   \n",
            "36652  Current Employee - Apple At Home Advisor   \n",
            "36653     Current Employee - Anonymous Employee   \n",
            "...                                         ...   \n",
            "49594               Current Employee - Creative   \n",
            "49595  Current Employee - Apple Retail - Expert   \n",
            "49596     Current Employee - Business Specialst   \n",
            "49597             Current Employee - Mac Genius   \n",
            "49598                 Current Employee - Genius   \n",
            "\n",
            "                                                 summary  \\\n",
            "36649                                 GIS & Data Analyst   \n",
            "36650  Challenging, Rewarding, but ZERO work/life bal...   \n",
            "36651         A Company as Meticulous as Their Products!   \n",
            "36652                                    At-Home-Advisor   \n",
            "36653                                               Good   \n",
            "...                                                  ...   \n",
            "49594             Guter Arbeitgeber mit Zusatzleistungen   \n",
            "49595  Poste assez semblable Ã  celui de spÃ©cialiste...   \n",
            "49596                                 TrÃ¨s bonne Ã©cole   \n",
            "49597                                         Mac Genius   \n",
            "49598                    Cooles Unternehmen, coole Leute   \n",
            "\n",
            "                                                    pros  \\\n",
            "36649               Fun work environment, great managers   \n",
            "36650  We work with geniuses - in every department, W...   \n",
            "36651  Competitive Pay, Great Benefits, Amazing Peopl...   \n",
            "36652  The position is at home. The company is AMAZIN...   \n",
            "36653          Salary, Hours, Time, Career opportunities   \n",
            "...                                                  ...   \n",
            "49594  freundliche ArbeitsatmosphÃ¤re Zusatzleistunge...   \n",
            "49595  Statut cadre, rÃ©munÃ©ration correct pour du r...   \n",
            "49596  du temps libre pour le dÃ©veloppement et une b...   \n",
            "49597  Hervorragendes Arbeitsklima mit einem, im Verg...   \n",
            "49598  Allein der Jobtitel ist nice! :) Die Stores si...   \n",
            "\n",
            "                                                    cons  \\\n",
            "36649  Sometimes there's a high volume of work, but s...   \n",
            "36650  ZERO ZERO ZERO work/life balance. Execs have b...   \n",
            "36651  None! I had one of the best times ever at this...   \n",
            "36652  The schedule changes every 90 days and you hav...   \n",
            "36653                    They only offer part-time hours   \n",
            "...                                                  ...   \n",
            "49594  Regelungen und Arbeitsweisen aus den USA die i...   \n",
            "49595  Pas de prime ni treiziÃ¨me mois, entreprise en...   \n",
            "49596  une Ã©volution longue et compliquÃ©e dans un m...   \n",
            "49597  versprochenen/geforderten Work/Life-Balance is...   \n",
            "49598  Man wird auch nach der Arbeit von allen mÃ¶gli...   \n",
            "\n",
            "                                          advice-to-mgmt  overall-ratings  \\\n",
            "36649                                               none                5   \n",
            "36650                                               none                4   \n",
            "36651       You guys are awesome. Keep up the good work!                5   \n",
            "36652  The management consists of a team manager and ...                5   \n",
            "36653                                               none                5   \n",
            "...                                                  ...              ...   \n",
            "49594  Nicht an das interne Management! Bonuszahlunge...                4   \n",
            "49595                                               none                3   \n",
            "49596                                               none                4   \n",
            "49597                                               none                4   \n",
            "49598                                               none                5   \n",
            "\n",
            "      work-balance-stars culture-values-stars carrer-opportunities-stars  \\\n",
            "36649               none                 none                       none   \n",
            "36650                  1                    3                          3   \n",
            "36651                  4                    5                          5   \n",
            "36652                  3                    5                          5   \n",
            "36653                  3                    3                          2   \n",
            "...                  ...                  ...                        ...   \n",
            "49594                  5                    4                          3   \n",
            "49595                  2                    3                          3   \n",
            "49596                  4                    5                          3   \n",
            "49597                  3                    5                          3   \n",
            "49598                  4                    5                          4   \n",
            "\n",
            "      comp-benefit-stars senior-mangemnet-stars  \n",
            "36649               none                   none  \n",
            "36650                  3                      3  \n",
            "36651                  4                      5  \n",
            "36652                  4                      5  \n",
            "36653                  5                      3  \n",
            "...                  ...                    ...  \n",
            "49594                  4                      4  \n",
            "49595                  2                      3  \n",
            "49596                  3                      3  \n",
            "49597                  4                      4  \n",
            "49598                  3                      4  \n",
            "\n",
            "[12858 rows x 14 columns]\n"
          ]
        }
      ]
    },
    {
      "cell_type": "code",
      "source": [
        "# Print location values \n",
        "print(apple_reviews['location'].value_counts())"
      ],
      "metadata": {
        "colab": {
          "base_uri": "https://localhost:8080/"
        },
        "id": "wmvLffCfHIg5",
        "outputId": "f44605ce-5d9a-418d-e2fe-ded8c5854634"
      },
      "execution_count": 128,
      "outputs": [
        {
          "output_type": "stream",
          "name": "stdout",
          "text": [
            "none                     5332\n",
            "Cupertino, CA            1262\n",
            "New York, NY              445\n",
            "Austin, TX                415\n",
            "Cork (Ireland)            214\n",
            "                         ... \n",
            "Bernalillo, NM              1\n",
            "Arlington, TX               1\n",
            "Cape Coral, FL              1\n",
            "Chino Hills, CA             1\n",
            "Rimouski, QC (Canada)       1\n",
            "Name: location, Length: 881, dtype: int64\n"
          ]
        }
      ]
    },
    {
      "cell_type": "code",
      "source": [
        "import seaborn as sns\n",
        "import matplotlib.pyplot as plt\n",
        "\n",
        "\n",
        "sns.countplot(apple_reviews['overall-ratings']).set(title = 'overall-ratings');"
      ],
      "metadata": {
        "colab": {
          "base_uri": "https://localhost:8080/",
          "height": 351
        },
        "id": "MWsbxlHWBCgV",
        "outputId": "73e7f76e-51af-4674-8c0e-d4314f4a75e6"
      },
      "execution_count": 120,
      "outputs": [
        {
          "output_type": "stream",
          "name": "stderr",
          "text": [
            "/usr/local/lib/python3.8/dist-packages/seaborn/_decorators.py:36: FutureWarning: Pass the following variable as a keyword arg: x. From version 0.12, the only valid positional argument will be `data`, and passing other arguments without an explicit keyword will result in an error or misinterpretation.\n",
            "  warnings.warn(\n"
          ]
        },
        {
          "output_type": "display_data",
          "data": {
            "text/plain": [
              "<Figure size 432x288 with 1 Axes>"
            ],
            "image/png": "[encoded data removed]"
          },
          "metadata": {
            "needs_background": "light"
          }
        }
      ]
    },
    {
      "cell_type": "code",
      "source": [
        "#create new df based on company\n",
        "microsoft_reviews = new_data.loc[new_data['company'] == 'microsoft']\n",
        "print(microsoft_reviews)"
      ],
      "metadata": {
        "colab": {
          "base_uri": "https://localhost:8080/"
        },
        "id": "VXBOsiEwBJ73",
        "outputId": "98500c5d-37fa-4c3e-c7f9-47a7138a1b7e"
      },
      "execution_count": 121,
      "outputs": [
        {
          "output_type": "stream",
          "name": "stdout",
          "text": [
            "         company     location          dates  \\\n",
            "49599  microsoft         none   Dec 11, 2018   \n",
            "49600  microsoft  Redmond, WA   Jan 28, 2013   \n",
            "49601  microsoft  Redmond, WA    Dec 9, 2018   \n",
            "49602  microsoft  Chicago, IL    Dec 9, 2018   \n",
            "49603  microsoft         none    Dec 9, 2018   \n",
            "...          ...          ...            ...   \n",
            "67524  microsoft         none   Dec 16, 2010   \n",
            "67525  microsoft         none   Dec 16, 2010   \n",
            "67526  microsoft         none   Dec 15, 2010   \n",
            "67527  microsoft         none   Dec 15, 2010   \n",
            "67528  microsoft         none   Dec 14, 2010   \n",
            "\n",
            "                                         job-title  \\\n",
            "49599        Current Employee - Anonymous Employee   \n",
            "49600        Current Employee - Anonymous Employee   \n",
            "49601        Current Employee - Anonymous Employee   \n",
            "49602                       Current Employee - CSA   \n",
            "49603        Current Employee - Anonymous Employee   \n",
            "...                                            ...   \n",
            "67524         Former Employee - Anonymous Employee   \n",
            "67525  Current Employee - Senior Marketing Manager   \n",
            "67526           Current Employee - Account Manager   \n",
            "67527          Current Employee - Senior Test Lead   \n",
            "67528            Former Employee - Senior Director   \n",
            "\n",
            "                                                 summary  \\\n",
            "49599                                          Microsoft   \n",
            "49600                        Thoughts after 10 years....   \n",
            "49601                          Technical Account Manager   \n",
            "49602                                      Great company   \n",
            "49603                          Great Company to work for   \n",
            "...                                                  ...   \n",
            "67524  Enriching experience for a beginner but bad fo...   \n",
            "67525               A complex and interesting experience   \n",
            "67526                                 Good Place to Work   \n",
            "67527  It's a competitive work place, with overload w...   \n",
            "67528                                   Used to be great   \n",
            "\n",
            "                                                    pros  \\\n",
            "49599  Culture, role impact, mission driven, collabor...   \n",
            "49600  1. If you love tech, this is a great place. No...   \n",
            "49601                     Great company and Great people   \n",
            "49602  Benefits, work-life balance, tons of internal ...   \n",
            "49603  Smart people, work life balance, growth mindse...   \n",
            "...                                                  ...   \n",
            "67524  -Access to a wide range of technologies, compl...   \n",
            "67525  - Once you're at Microsoft you can change role...   \n",
            "67526  Nice place to work. Good atmosphere with advan...   \n",
            "67527       Smart people around you, can learn from them   \n",
            "67528  Compensation, Health benefits and brand name r...   \n",
            "\n",
            "                                                    cons  \\\n",
            "49599          Volume of work is sometimes unmanageable,   \n",
            "49600  Brand on Your Resume: After many years of losi...   \n",
            "49601                         I see no cons at this time   \n",
            "49602                       Can't think of any right now   \n",
            "49603                 Can be hard to transfer internally   \n",
            "...                                                  ...   \n",
            "67524  -Testers(SDET's ) do not get as many opportuni...   \n",
            "67525  =- be prepared to be Flexible - Frequent chang...   \n",
            "67526  Management confusion at times with vision for ...   \n",
            "67527              Politics, weak moral, leaning loyalty   \n",
            "67528  Leadership was better in the late 90's....its ...   \n",
            "\n",
            "                                          advice-to-mgmt  overall-ratings  \\\n",
            "49599                                               none                5   \n",
            "49600  I'll type it here - but I don't they are liste...                4   \n",
            "49601                             Keep up the great work                5   \n",
            "49602                                               none                5   \n",
            "49603                                               none                5   \n",
            "...                                                  ...              ...   \n",
            "67524  Make the company leaner and Meaner. (which wou...                3   \n",
            "67525                                               none                3   \n",
            "67526                                               none                4   \n",
            "67527                                               none                3   \n",
            "67528  Good people keep leaving...you have to ask you...                2   \n",
            "\n",
            "      work-balance-stars culture-values-stars carrer-opportunities-stars  \\\n",
            "49599                  4                    5                          5   \n",
            "49600                  4                    2                          2   \n",
            "49601                  4                    5                          5   \n",
            "49602                  5                    5                          5   \n",
            "49603                  5                    5                          4   \n",
            "...                  ...                  ...                        ...   \n",
            "67524                  3                 none                          4   \n",
            "67525                1.5                 none                        2.5   \n",
            "67526                  3                 none                          4   \n",
            "67527                  2                 none                          3   \n",
            "67528                  2                 none                          2   \n",
            "\n",
            "      comp-benefit-stars senior-mangemnet-stars  \n",
            "49599                  5                      5  \n",
            "49600                  4                   none  \n",
            "49601                  5                      5  \n",
            "49602                  5                      5  \n",
            "49603                  5                      5  \n",
            "...                  ...                    ...  \n",
            "67524                  4                      2  \n",
            "67525                  4                    2.5  \n",
            "67526                4.5                    3.5  \n",
            "67527                3.5                      3  \n",
            "67528                  4                      2  \n",
            "\n",
            "[17830 rows x 14 columns]\n"
          ]
        }
      ]
    },
    {
      "cell_type": "code",
      "source": [
        "# Print location values \n",
        "print(microsoft_reviews['location'].value_counts())"
      ],
      "metadata": {
        "colab": {
          "base_uri": "https://localhost:8080/"
        },
        "id": "Gc2cFZniHQOa",
        "outputId": "c940fb31-8d21-4f30-eade-5af8132b606f"
      },
      "execution_count": 129,
      "outputs": [
        {
          "output_type": "stream",
          "name": "stdout",
          "text": [
            "none                        6150\n",
            "Redmond, WA                 5573\n",
            "Seattle, WA                  747\n",
            "Hyderabad (India)            738\n",
            "Bellevue, WA                 435\n",
            "                            ... \n",
            "Mukwonago, WI                  1\n",
            "Greenville, OH                 1\n",
            "Poulsbo, WA                    1\n",
            "Medford, OR                    1\n",
            "Pudong, Shanghai (China)       1\n",
            "Name: location, Length: 557, dtype: int64\n"
          ]
        }
      ]
    },
    {
      "cell_type": "code",
      "source": [
        "import seaborn as sns\n",
        "import matplotlib.pyplot as plt\n",
        "\n",
        "\n",
        "sns.countplot(microsoft_reviews['overall-ratings']).set(title = 'overall-ratings');"
      ],
      "metadata": {
        "colab": {
          "base_uri": "https://localhost:8080/",
          "height": 351
        },
        "id": "3tZysYkdBRW3",
        "outputId": "4fd061c5-c01d-42c9-b9cf-f988931cc838"
      },
      "execution_count": 122,
      "outputs": [
        {
          "output_type": "stream",
          "name": "stderr",
          "text": [
            "/usr/local/lib/python3.8/dist-packages/seaborn/_decorators.py:36: FutureWarning: Pass the following variable as a keyword arg: x. From version 0.12, the only valid positional argument will be `data`, and passing other arguments without an explicit keyword will result in an error or misinterpretation.\n",
            "  warnings.warn(\n"
          ]
        },
        {
          "output_type": "display_data",
          "data": {
            "text/plain": [
              "<Figure size 432x288 with 1 Axes>"
            ],
            "image/png": "[encoded data removed]"
          },
          "metadata": {
            "needs_background": "light"
          }
        }
      ]
    },
    {
      "cell_type": "markdown",
      "source": [
        "**Data Cleaning Text**"
      ],
      "metadata": {
        "id": "na9TksnAHYhx"
      }
    },
    {
      "cell_type": "code",
      "source": [
        "!pip install contractions\n",
        "import contractions\n",
        "\n",
        "expanded_words = []   \n",
        "for word in google_reviews_1.split():\n",
        "  # using contractions.fix to expand the shortened words\n",
        "  expanded_words.append(contractions.fix(word))  \n",
        "   \n",
        "expanded_text = ' '.join(expanded_words)\n",
        "print('Original text: ' + google_reviews_1)\n",
        "print('Expanded_text: ' + expanded_text)\n"
      ],
      "metadata": {
        "colab": {
          "base_uri": "https://localhost:8080/",
          "height": 671
        },
        "id": "yNVc3upoMLPD",
        "outputId": "06521eee-e028-44f4-bd5a-2162644c8a7d"
      },
      "execution_count": 133,
      "outputs": [
        {
          "output_type": "stream",
          "name": "stdout",
          "text": [
            "Looking in indexes: https://pypi.org/simple, https://us-python.pkg.dev/colab-wheels/public/simple/\n",
            "Collecting contractions\n",
            "  Downloading contractions-0.1.73-py2.py3-none-any.whl (8.7 kB)\n",
            "Collecting textsearch>=0.0.21\n",
            "  Downloading textsearch-0.0.24-py2.py3-none-any.whl (7.6 kB)\n",
            "Collecting pyahocorasick\n",
            "  Downloading pyahocorasick-2.0.0-cp38-cp38-manylinux_2_5_x86_64.manylinux1_x86_64.whl (104 kB)\n",
            "\u001b[2K     \u001b[90m━━━━━━━━━━━━━━━━━━━━━━━━━━━━━━━━━━━━━━━\u001b[0m \u001b[32m104.5/104.5 KB\u001b[0m \u001b[31m6.1 MB/s\u001b[0m eta \u001b[36m0:00:00\u001b[0m\n",
            "\u001b[?25hCollecting anyascii\n",
            "  Downloading anyascii-0.3.1-py3-none-any.whl (287 kB)\n",
            "\u001b[2K     \u001b[90m━━━━━━━━━━━━━━━━━━━━━━━━━━━━━━━━━━━━━━\u001b[0m \u001b[32m287.5/287.5 KB\u001b[0m \u001b[31m22.3 MB/s\u001b[0m eta \u001b[36m0:00:00\u001b[0m\n",
            "\u001b[?25hInstalling collected packages: pyahocorasick, anyascii, textsearch, contractions\n",
            "Successfully installed anyascii-0.3.1 contractions-0.1.73 pyahocorasick-2.0.0 textsearch-0.0.24\n"
          ]
        },
        {
          "output_type": "error",
          "ename": "AttributeError",
          "evalue": "ignored",
          "traceback": [
            "\u001b[0;31m---------------------------------------------------------------------------\u001b[0m",
            "\u001b[0;31mAttributeError\u001b[0m                            Traceback (most recent call last)",
            "\u001b[0;32m<ipython-input-133-434456eee82a>\u001b[0m in \u001b[0;36m<module>\u001b[0;34m\u001b[0m\n\u001b[1;32m      3\u001b[0m \u001b[0;34m\u001b[0m\u001b[0m\n\u001b[1;32m      4\u001b[0m \u001b[0mexpanded_words\u001b[0m \u001b[0;34m=\u001b[0m \u001b[0;34m[\u001b[0m\u001b[0;34m]\u001b[0m\u001b[0;34m\u001b[0m\u001b[0;34m\u001b[0m\u001b[0m\n\u001b[0;32m----> 5\u001b[0;31m \u001b[0;32mfor\u001b[0m \u001b[0mword\u001b[0m \u001b[0;32min\u001b[0m \u001b[0mgoogle_reviews_1\u001b[0m\u001b[0;34m.\u001b[0m\u001b[0msplit\u001b[0m\u001b[0;34m(\u001b[0m\u001b[0;34m)\u001b[0m\u001b[0;34m:\u001b[0m\u001b[0;34m\u001b[0m\u001b[0;34m\u001b[0m\u001b[0m\n\u001b[0m\u001b[1;32m      6\u001b[0m   \u001b[0;31m# using contractions.fix to expand the shortened words\u001b[0m\u001b[0;34m\u001b[0m\u001b[0;34m\u001b[0m\u001b[0;34m\u001b[0m\u001b[0m\n\u001b[1;32m      7\u001b[0m   \u001b[0mexpanded_words\u001b[0m\u001b[0;34m.\u001b[0m\u001b[0mappend\u001b[0m\u001b[0;34m(\u001b[0m\u001b[0mcontractions\u001b[0m\u001b[0;34m.\u001b[0m\u001b[0mfix\u001b[0m\u001b[0;34m(\u001b[0m\u001b[0mword\u001b[0m\u001b[0;34m)\u001b[0m\u001b[0;34m)\u001b[0m\u001b[0;34m\u001b[0m\u001b[0;34m\u001b[0m\u001b[0m\n",
            "\u001b[0;32m/usr/local/lib/python3.8/dist-packages/pandas/core/generic.py\u001b[0m in \u001b[0;36m__getattr__\u001b[0;34m(self, name)\u001b[0m\n\u001b[1;32m   5485\u001b[0m         ):\n\u001b[1;32m   5486\u001b[0m             \u001b[0;32mreturn\u001b[0m \u001b[0mself\u001b[0m\u001b[0;34m[\u001b[0m\u001b[0mname\u001b[0m\u001b[0;34m]\u001b[0m\u001b[0;34m\u001b[0m\u001b[0;34m\u001b[0m\u001b[0m\n\u001b[0;32m-> 5487\u001b[0;31m         \u001b[0;32mreturn\u001b[0m \u001b[0mobject\u001b[0m\u001b[0;34m.\u001b[0m\u001b[0m__getattribute__\u001b[0m\u001b[0;34m(\u001b[0m\u001b[0mself\u001b[0m\u001b[0;34m,\u001b[0m \u001b[0mname\u001b[0m\u001b[0;34m)\u001b[0m\u001b[0;34m\u001b[0m\u001b[0;34m\u001b[0m\u001b[0m\n\u001b[0m\u001b[1;32m   5488\u001b[0m \u001b[0;34m\u001b[0m\u001b[0m\n\u001b[1;32m   5489\u001b[0m     \u001b[0;32mdef\u001b[0m \u001b[0m__setattr__\u001b[0m\u001b[0;34m(\u001b[0m\u001b[0mself\u001b[0m\u001b[0;34m,\u001b[0m \u001b[0mname\u001b[0m\u001b[0;34m:\u001b[0m \u001b[0mstr\u001b[0m\u001b[0;34m,\u001b[0m \u001b[0mvalue\u001b[0m\u001b[0;34m)\u001b[0m \u001b[0;34m->\u001b[0m \u001b[0;32mNone\u001b[0m\u001b[0;34m:\u001b[0m\u001b[0;34m\u001b[0m\u001b[0;34m\u001b[0m\u001b[0m\n",
            "\u001b[0;31mAttributeError\u001b[0m: 'Series' object has no attribute 'split'"
          ]
        }
      ]
    }
  ]
}